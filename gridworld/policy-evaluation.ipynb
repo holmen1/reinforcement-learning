{
 "cells": [
  {
   "cell_type": "markdown",
   "metadata": {},
   "source": [
    "# DAT257x: Reinforcement Learning Explained\n",
    "\n",
    "## Lab: Dynamic Programming\n",
    "\n",
    "### Policy Evaluation"
   ]
  },
  {
   "cell_type": "markdown",
   "metadata": {},
   "source": [
    "Policy Evaluation calculates the value function for a policy, given the policy and the full definition of the associated Markov Decision Process.  The full definition of an MDP is the set of states, the set of available actions for each state, the set of rewards, the discount factor, and the state/reward transition function."
   ]
  },
  {
   "cell_type": "code",
   "execution_count": 13,
   "metadata": {},
   "outputs": [],
   "source": [
    "import numpy as np\n",
    "import gridworld_mdp as gw   # defines the MDP for a 4x4 gridworld"
   ]
  },
  {
   "cell_type": "markdown",
   "metadata": {},
   "source": [
    "The gridworld MDP defines the probability of state transitions for our 4x4 gridworld using a \"get_transitions()\" function.  \n",
    "\n",
    "Let's try it out now, with state=2 and all defined actions."
   ]
  },
  {
   "cell_type": "code",
   "execution_count": 14,
   "metadata": {},
   "outputs": [
    {
     "name": "stdout",
     "output_type": "stream",
     "text": [
      "transition(5, up): next_state= 1 , reward= -1 , probability= 1\n",
      "transition(5, down): next_state= 9 , reward= -1 , probability= 1\n",
      "transition(5, left): next_state= 4 , reward= -1 , probability= 1\n",
      "transition(5, right): next_state= 6 , reward= -1 , probability= 1\n"
     ]
    }
   ],
   "source": [
    "# try out the gw.get_transitions(state, action) function\n",
    "\n",
    "state = 5\n",
    "actions = gw.get_available_actions(state)\n",
    "\n",
    "for action in actions:\n",
    "    transitions = gw.get_transitions(state=state, action=action)\n",
    "\n",
    "    # examine each return transition (only 1 per call for this MDP)\n",
    "    for (trans) in transitions:\n",
    "        next_state, reward, probability = trans    # unpack tuple\n",
    "        print(\"transition(\"+ str(state) + \", \" + action + \"):\", \"next_state=\", next_state, \", reward=\", reward, \", probability=\", probability)"
   ]
  },
  {
   "cell_type": "code",
   "execution_count": 15,
   "metadata": {},
   "outputs": [
    {
     "data": {
      "text/plain": [
       "9"
      ]
     },
     "execution_count": 15,
     "metadata": {},
     "output_type": "execute_result"
    }
   ],
   "source": [
    "gw.get_transitions(state=5, action='down')[0][0]"
   ]
  },
  {
   "cell_type": "markdown",
   "metadata": {},
   "source": [
    "**Implement the algorithm for Iterative Policy Evaluation using the in-place approach**. In the in-place approach, one array holds the values being estimated for each state and the same array is used for estimates of states needed by the algorithm."
   ]
  },
  {
   "cell_type": "code",
   "execution_count": 16,
   "metadata": {},
   "outputs": [],
   "source": [
    "def policy_eval_in_place(state_count, gamma, theta, get_policy, get_transitions):\n",
    "    \"\"\"\n",
    "    This function uses the in-place approach to evaluate the specified policy for the specified MDP:\n",
    "    \n",
    "    'state_count' is the total number of states in the MDP. States are represented as 0-relative numbers.\n",
    "    \n",
    "    'gamma' is the MDP discount factor for rewards.\n",
    "    \n",
    "    'theta' is the small number threshold to signal convergence of the value function (see Iterative Policy Evaluation algorithm).\n",
    "    \n",
    "    'get_policy' is the stochastic policy function - it takes a state parameter and returns list of tuples, \n",
    "        where each tuple is of the form: (action, probability).  It represents the policy being evaluated.\n",
    "        \n",
    "    'get_transitions' is the state/reward transiton function.  It accepts two parameters, state and action, and returns\n",
    "        a list of tuples, where each tuple is of the form: (next_state, reward, probabiliity).  \n",
    "         \n",
    "    \"\"\"\n",
    "    V = state_count*[0]\n",
    "    while True:\n",
    "        delta = 0\n",
    "        for s in range(state_count):\n",
    "            v = V[s]\n",
    "            tmp_value = 0\n",
    "            for pi in get_policy(s):\n",
    "                action, action_probability = pi\n",
    "                transitions = get_transitions(state=s, action=action)\n",
    "                for transition in transitions:\n",
    "                    next_state, reward, probability = transition\n",
    "                    tmp_value += action_probability*probability*(reward + gamma*V[next_state])\n",
    "            V[s] = tmp_value\n",
    "            delta = max(delta, abs(v - V[s]))\n",
    "        if  delta < theta:\n",
    "            break\n",
    "    return V"
   ]
  },
  {
   "cell_type": "code",
   "execution_count": 19,
   "metadata": {},
   "outputs": [],
   "source": [
    "def get_equal_policy(state):\n",
    "    # build a simple policy where all 4 actions have the same probability, ignoring the specified state\n",
    "    policy = ( (\"up\", .25), (\"right\", .25), (\"down\", .25), (\"left\", .25))\n",
    "    return policy"
   ]
  },
  {
   "cell_type": "code",
   "execution_count": 20,
   "metadata": {},
   "outputs": [],
   "source": [
    "n_states = gw.get_state_count()\n",
    "\n",
    "# test our function\n",
    "values = policy_eval_in_place(state_count=n_states, gamma=.9, theta=.001, get_policy=get_equal_policy, \\\n",
    "    get_transitions=gw.get_transitions)"
   ]
  },
  {
   "cell_type": "code",
   "execution_count": 21,
   "metadata": {},
   "outputs": [
    {
     "data": {
      "text/plain": [
       "array([[ 0.        , -5.27590649, -7.12580367, -7.64772992],\n",
       "       [-5.27590649, -6.60421391, -7.17850791, -7.12638424],\n",
       "       [-7.12580367, -7.17850791, -6.60467837, -5.27666399],\n",
       "       [-7.64772992, -7.12638424, -5.27666399,  0.        ]])"
      ]
     },
     "execution_count": 21,
     "metadata": {},
     "output_type": "execute_result"
    }
   ],
   "source": [
    "a = np.append(values, 0)\n",
    "np.reshape(a, (4,4))"
   ]
  },
  {
   "cell_type": "code",
   "execution_count": null,
   "metadata": {},
   "outputs": [],
   "source": []
  }
 ],
 "metadata": {
  "kernelspec": {
   "display_name": "Python 3",
   "language": "python",
   "name": "python3"
  },
  "language_info": {
   "codemirror_mode": {
    "name": "ipython",
    "version": 3
   },
   "file_extension": ".py",
   "mimetype": "text/x-python",
   "name": "python",
   "nbconvert_exporter": "python",
   "pygments_lexer": "ipython3",
   "version": "3.7.7"
  }
 },
 "nbformat": 4,
 "nbformat_minor": 2
}

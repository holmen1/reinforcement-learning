{
 "cells": [
  {
   "cell_type": "markdown",
   "metadata": {},
   "source": [
    "## 1: Bandits\n",
    "\n",
    "### 1.1A: Epsilon Greedy"
   ]
  },
  {
   "cell_type": "code",
   "execution_count": 1,
   "metadata": {},
   "outputs": [],
   "source": [
    "import numpy as np\n",
    "import sys\n",
    "if \"../\" not in sys.path:\n",
    "    sys.path.append(\"../\") "
   ]
  },
  {
   "cell_type": "code",
   "execution_count": 2,
   "metadata": {},
   "outputs": [],
   "source": [
    "\n",
    "### Interface\n",
    "class Environment(object):\n",
    "\n",
    "    def reset(self):\n",
    "        raise NotImplementedError('Inheriting classes must override reset.')\n",
    "\n",
    "    def actions(self):\n",
    "        raise NotImplementedError('Inheriting classes must override actions.')\n",
    "\n",
    "    def step(self):\n",
    "        raise NotImplementedError('Inheriting classes must override step')\n",
    "\n",
    "class ActionSpace(object):\n",
    "    \n",
    "    def __init__(self, actions):\n",
    "        self.actions = actions\n",
    "        self.n = len(actions)\n",
    "    \n",
    "        \n",
    "class BanditEnv(Environment):\n",
    "    def __init__(self, num_actions = 10, distribution = \"bernoulli\", evaluation_seed=44):\n",
    "        super(BanditEnv, self).__init__()\n",
    "        \n",
    "        self.action_space = ActionSpace(range(num_actions))\n",
    "        self.distribution = distribution\n",
    "        \n",
    "        if (evaluation_seed != 44):\n",
    "            np.random.seed(evaluation_seed)\n",
    "        \n",
    "        self.reward_parameters = None\n",
    "        if distribution == \"bernoulli\":\n",
    "            self.reward_parameters = np.random.rand(num_actions)\n",
    "        elif distribution == \"normal\":\n",
    "            self.reward_parameters = (np.random.randn(num_actions), np.random.rand(num_actions))\n",
    "        elif distribution == \"heavy-tail\":\n",
    "            self.reward_parameters = np.random.rand(num_actions)\n",
    "        else:\n",
    "            print(\"Please use a supported reward distribution\", flush = True)\n",
    "            sys.exit(0)\n",
    "        \n",
    "        if distribution != \"normal\":\n",
    "            self.optimal_arm = np.argmax(self.reward_parameters)\n",
    "        else:\n",
    "            self.optimal_arm = np.argmax(self.reward_parameters[0])\n",
    "            \n",
    "        #print(\"Distribution:\", distribution, self.reward_parameters, flush = True)\n",
    "        #print(\"Optimal arm:\", self.optimal_arm, flush = True)\n",
    "    \n",
    "    def reset(self):\n",
    "        self.is_reset = True\n",
    "        return None\n",
    "    \n",
    "    def compute_gap(self, action):\n",
    "        if self.distribution != \"normal\":\n",
    "            gap = np.absolute(self.reward_parameters[self.optimal_arm] - self.reward_parameters[action])\n",
    "        else:\n",
    "            gap = np.absolute(self.reward_parameters[0][self.optimal_arm] - self.reward_parameters[0][action])\n",
    "        return gap\n",
    "    \n",
    "    def step(self, action):\n",
    "        self.is_reset = False\n",
    "        \n",
    "        valid_action = True\n",
    "        if (action is None or action < 0 or action >= self.action_space.n):\n",
    "            print(\"Algorithm chose an invalid action; reset reward to -inf\", flush = True)\n",
    "            reward = float(\"-inf\")\n",
    "            gap = float(\"inf\")\n",
    "            valid_action = False\n",
    "        \n",
    "        if self.distribution == \"bernoulli\":\n",
    "            if valid_action:\n",
    "                reward = np.random.binomial(1, self.reward_parameters[action])\n",
    "                gap = self.reward_parameters[self.optimal_arm] - self.reward_parameters[action]\n",
    "        elif self.distribution == \"normal\":\n",
    "            if valid_action:\n",
    "                reward = self.reward_parameters[0][action] + self.reward_parameters[1][action] * np.random.randn()\n",
    "                gap = self.reward_parameters[0][self.optimal_arm] - self.reward_parameters[0][action]\n",
    "        elif self.distribution == \"heavy-tail\":\n",
    "            if valid_action:\n",
    "                reward = self.reward_parameters[action] + np.random.standard_cauchy()\n",
    "                gap = self.reward_parameters[self.optimal_arm] - self.reward_parameters[action]        #HACK to compute expected gap\n",
    "        else:\n",
    "            print(\"Please use a supported reward distribution\", flush = True)\n",
    "            sys.exit(0)\n",
    "            \n",
    "        return(None, reward, self.is_reset, '')"
   ]
  },
  {
   "cell_type": "code",
   "execution_count": 3,
   "metadata": {},
   "outputs": [],
   "source": [
    "#Policy interface\n",
    "class Policy:\n",
    "    #num_actions: (int) Number of arms [indexed by 0 ... num_actions-1]\n",
    "    def __init__(self, num_actions):\n",
    "        self.num_actions = num_actions\n",
    "    \n",
    "    def act(self):\n",
    "        pass\n",
    "        \n",
    "    def feedback(self, action, reward):\n",
    "        pass"
   ]
  },
  {
   "cell_type": "code",
   "execution_count": 4,
   "metadata": {},
   "outputs": [],
   "source": [
    "#Greedy policy\n",
    "class Greedy(Policy):\n",
    "    def __init__(self, num_actions):\n",
    "        Policy.__init__(self, num_actions)\n",
    "        self.name = \"Greedy\"\n",
    "        self.total_rewards = np.zeros(num_actions, dtype = np.longdouble)\n",
    "        self.total_counts = np.zeros(num_actions, dtype = np.longdouble)\n",
    "    \n",
    "    def act(self):\n",
    "        current_averages = np.divide(self.total_rewards, self.total_counts, where = self.total_counts > 0)\n",
    "        current_averages[self.total_counts <= 0] = 0.5      #Correctly handles Bernoulli rewards; over-estimates otherwise\n",
    "        current_action = np.argmax(current_averages)\n",
    "        return current_action\n",
    "        \n",
    "    def feedback(self, action, reward):\n",
    "        self.total_rewards[action] += reward\n",
    "        self.total_counts[action] += 1"
   ]
  },
  {
   "cell_type": "markdown",
   "metadata": {},
   "source": [
    "Now let's implement an epsilon greedy policy based on the policy interface. The epsilon greedy policy will make sure we explore (i.e taking random actions) as set by the epsilon value, and take the most rewarding action (i.e greedy) the rest of the times. This is implemented in the act() function. "
   ]
  },
  {
   "cell_type": "code",
   "execution_count": 5,
   "metadata": {},
   "outputs": [],
   "source": [
    "#Epsilon Greedy policy\n",
    "class EpsilonGreedy(Greedy):\n",
    "    def __init__(self, num_actions, epsilon):\n",
    "        Greedy.__init__(self, num_actions)\n",
    "        if (epsilon is None or epsilon < 0 or epsilon > 1):\n",
    "            print(\"EpsilonGreedy: Invalid value of epsilon\", flush = True)\n",
    "            sys.exit(0)\n",
    "            \n",
    "        self.epsilon = epsilon\n",
    "        self.name = \"Epsilon Greedy\"\n",
    "    \n",
    "    def act(self):\n",
    "        choice = None\n",
    "        if self.epsilon == 0:\n",
    "            choice = 0\n",
    "        elif self.epsilon == 1:\n",
    "            choice = 1\n",
    "        else:\n",
    "            choice = np.random.binomial(1, self.epsilon)\n",
    "            \n",
    "        if choice == 1:\n",
    "            return np.random.choice(self.num_actions)\n",
    "        else:\n",
    "            current_averages = np.divide(self.total_rewards, self.total_counts, where = self.total_counts > 0)\n",
    "            #current_averages[self.total_counts <= 0] = 0.5  #Correctly handles Bernoulli rewards; over-estimates otherwise\n",
    "            current_action = np.argmax(current_averages)\n",
    "            return current_action\n",
    "        "
   ]
  },
  {
   "cell_type": "markdown",
   "metadata": {},
   "source": [
    "Now let's prepare the simulation. We'll use a different seed and have 10 arms/actions instead of 5."
   ]
  },
  {
   "cell_type": "code",
   "execution_count": 6,
   "metadata": {},
   "outputs": [],
   "source": [
    "from collections import namedtuple\n",
    "TimestepStats = namedtuple(\"Stats\",[\"cumulative_rewards\", \"regrets\"])"
   ]
  },
  {
   "cell_type": "code",
   "execution_count": 7,
   "metadata": {},
   "outputs": [],
   "source": [
    "#import lib.plotting as plotting\n",
    "from matplotlib import pyplot as plt\n",
    "from matplotlib import pylab\n",
    "\n",
    "class Experiments(object):\n",
    "    def __init__(self, env, agent):\n",
    "        \n",
    "        self.env = env\n",
    "        self.agent = agent\n",
    "        \n",
    "        self.episode_length = np.array([0])\n",
    "        self.episode_reward = np.array([0])\n",
    "        \n",
    "        \n",
    "\n",
    "    def run_bandits(self, max_number_of_trials=1000, display_frequency=1):\n",
    "        \n",
    "        stats = TimestepStats(\n",
    "            cumulative_rewards=np.zeros(max_number_of_trials),\n",
    "            regrets=np.zeros(max_number_of_trials))   \n",
    "            \n",
    "        cumulative_reward = 0.0\n",
    "        cumulative_regret = 0.0\n",
    "        \n",
    "        for trial in range(max_number_of_trials):\n",
    "            action = self.agent.act()\n",
    "            \n",
    "            _ , reward, done, _ = self.env.step(action)       \n",
    "            self.agent.feedback(action, reward)\n",
    "            cumulative_reward += reward\n",
    "\n",
    "            gap = self.env.compute_gap(action)\n",
    "            if action != self.env.optimal_arm:\n",
    "                cumulative_regret += gap\n",
    "\n",
    "            stats.cumulative_rewards[trial] = cumulative_reward\n",
    "            stats.regrets[trial] = cumulative_regret\n",
    "         \n",
    "        return stats"
   ]
  },
  {
   "cell_type": "code",
   "execution_count": 17,
   "metadata": {},
   "outputs": [],
   "source": [
    "#evaluation_seed = 5016\n",
    "num_actions = 10\n",
    "trials = 1000\n",
    "distribution = \"bernoulli\"\n",
    "#distribution = \"normal\""
   ]
  },
  {
   "cell_type": "code",
   "execution_count": 18,
   "metadata": {},
   "outputs": [],
   "source": [
    "N = 2000\n",
    "eps = [0, 0.01, 0.1]"
   ]
  },
  {
   "cell_type": "code",
   "execution_count": 19,
   "metadata": {},
   "outputs": [],
   "source": [
    "es = len(eps)\n",
    "Reward = np.zeros((N, es, trials))\n",
    "Regret = np.zeros((N, es, trials))"
   ]
  },
  {
   "cell_type": "code",
   "execution_count": 20,
   "metadata": {},
   "outputs": [],
   "source": [
    "for n in range(N):\n",
    "    env = BanditEnv(num_actions, distribution)\n",
    "    for ei in range(es):\n",
    "        agent = EpsilonGreedy(num_actions, eps[ei])\n",
    "        experiments = Experiments(env, agent)\n",
    "        tmp = experiments.run_bandits(trials)\n",
    "        Reward[n, ei, :] = tmp.cumulative_rewards\n",
    "        Regret[n, ei, :] = tmp.regrets"
   ]
  },
  {
   "cell_type": "code",
   "execution_count": 21,
   "metadata": {},
   "outputs": [],
   "source": [
    "reward = np.mean(Reward, axis=0)\n",
    "regret = np.mean(Regret, axis=0)"
   ]
  },
  {
   "cell_type": "code",
   "execution_count": 22,
   "metadata": {},
   "outputs": [
    {
     "data": {
      "text/plain": [
       "(3, 1000)"
      ]
     },
     "execution_count": 22,
     "metadata": {},
     "output_type": "execute_result"
    }
   ],
   "source": [
    "reward.shape"
   ]
  },
  {
   "cell_type": "code",
   "execution_count": 23,
   "metadata": {},
   "outputs": [
    {
     "data": {
      "text/plain": [
       "(3, 1000)"
      ]
     },
     "execution_count": 23,
     "metadata": {},
     "output_type": "execute_result"
    }
   ],
   "source": [
    "regret.shape"
   ]
  },
  {
   "cell_type": "code",
   "execution_count": 24,
   "metadata": {},
   "outputs": [
    {
     "data": {
      "image/png": "[encoded data removed]",
      "text/plain": [
       "<Figure size 720x360 with 1 Axes>"
      ]
     },
     "metadata": {
      "needs_background": "light"
     },
     "output_type": "display_data"
    },
    {
     "data": {
      "image/png": "[encoded data removed]",
      "text/plain": [
       "<Figure size 720x360 with 1 Axes>"
      ]
     },
     "metadata": {
      "needs_background": "light"
     },
     "output_type": "display_data"
    }
   ],
   "source": [
    "fig1 = plt.figure(figsize=(10,5))\n",
    "plt.plot(reward[0, :], label=f\"eps={eps[0]}\")\n",
    "plt.plot(reward[1, :], label=f\"eps={eps[1]}\")\n",
    "plt.plot(reward[2, :], label=f\"eps={eps[2]}\")\n",
    "plt.xlabel(\"Timestep\")\n",
    "plt.ylabel(\"Cumulative Reward\")\n",
    "plt.title(\"Cumulative Reward over Timestep\")\n",
    "leg = plt.legend(loc='lower right', ncol=2, fancybox=True)\n",
    "leg.get_frame().set_alpha(0.5)\n",
    "plt.show(fig1)\n",
    "\n",
    "# Plot the regret over time\n",
    "fig2 = plt.figure(figsize=(10,5))\n",
    "plt.plot(regret[0, :], label=f\"eps={eps[0]}\")\n",
    "plt.plot(regret[1, :], label=f\"eps={eps[1]}\")\n",
    "plt.plot(regret[2, :], label=f\"eps={eps[2]}\")\n",
    "plt.xlabel(\"Timestep\")\n",
    "plt.ylabel(\"Regret\")\n",
    "plt.title(\"Regret over Timestep\")\n",
    "leg = plt.legend(loc='lower right', ncol=2, shadow=True, fancybox=True)\n",
    "leg.get_frame().set_alpha(0.5)\n",
    "plt.show(fig2)"
   ]
  },
  {
   "cell_type": "code",
   "execution_count": null,
   "metadata": {},
   "outputs": [],
   "source": []
  }
 ],
 "metadata": {
  "kernelspec": {
   "display_name": "Python 3",
   "language": "python",
   "name": "python3"
  },
  "language_info": {
   "codemirror_mode": {
    "name": "ipython",
    "version": 3
   },
   "file_extension": ".py",
   "mimetype": "text/x-python",
   "name": "python",
   "nbconvert_exporter": "python",
   "pygments_lexer": "ipython3",
   "version": "3.7.7"
  }
 },
 "nbformat": 4,
 "nbformat_minor": 2
}
